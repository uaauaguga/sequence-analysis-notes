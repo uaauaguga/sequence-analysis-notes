{
 "cells": [
  {
   "cell_type": "code",
   "execution_count": 1,
   "id": "entire-catering",
   "metadata": {},
   "outputs": [],
   "source": [
    "import os\n",
    "import re"
   ]
  },
  {
   "cell_type": "code",
   "execution_count": 2,
   "id": "suitable-stereo",
   "metadata": {},
   "outputs": [],
   "source": [
    "os.chdir(\"/home/jinyunfan/Documents/bioinfo/learn/sequence-analysis/bioinfo-toy-implemantations\")"
   ]
  },
  {
   "cell_type": "markdown",
   "id": "brazilian-discovery",
   "metadata": {},
   "source": [
    "- Example reault for exact matching"
   ]
  },
  {
   "cell_type": "code",
   "execution_count": 3,
   "id": "future-exemption",
   "metadata": {},
   "outputs": [],
   "source": [
    "def load_fasta(path):\n",
    "    sequences = {}\n",
    "    with open(path) as f:\n",
    "        for line in f:\n",
    "            line = line.strip()\n",
    "            if line.startswith(\">\"):\n",
    "                seq_id = line[1:]\n",
    "                sequences[seq_id] = \"\"\n",
    "            else:\n",
    "                sequences[seq_id] += line\n",
    "    return sequences"
   ]
  },
  {
   "cell_type": "code",
   "execution_count": 4,
   "id": "russian-warrior",
   "metadata": {},
   "outputs": [],
   "source": [
    "sequences = load_fasta(\"test/arabidopsis.tx.demo.fa\")\n",
    "queries = load_fasta(\"test/exact-query.fa\")"
   ]
  },
  {
   "cell_type": "code",
   "execution_count": 5,
   "id": "historical-limit",
   "metadata": {},
   "outputs": [],
   "source": [
    "fout = open(\"test/exact-query-demo.txt\",\"w\")\n",
    "for qk in queries:\n",
    "    for sk in sequences:\n",
    "        for m in re.finditer(queries[qk],sequences[sk]):\n",
    "            print(qk,sk,m.start(),m.end(),sep=\"\\t\",file=fout)\n",
    "fout.close()"
   ]
  }
 ],
 "metadata": {
  "kernelspec": {
   "display_name": "Python 3",
   "language": "python",
   "name": "python3"
  },
  "language_info": {
   "codemirror_mode": {
    "name": "ipython",
    "version": 3
   },
   "file_extension": ".py",
   "mimetype": "text/x-python",
   "name": "python",
   "nbconvert_exporter": "python",
   "pygments_lexer": "ipython3",
   "version": "3.6.9"
  }
 },
 "nbformat": 4,
 "nbformat_minor": 5
}
